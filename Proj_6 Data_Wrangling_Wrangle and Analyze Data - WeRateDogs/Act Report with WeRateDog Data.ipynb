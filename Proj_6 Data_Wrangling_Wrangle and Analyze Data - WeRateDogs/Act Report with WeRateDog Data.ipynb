{
 "cells": [
  {
   "cell_type": "markdown",
   "metadata": {},
   "source": [
    "# Act Report with WeRateDog Data\n"
   ]
  },
  {
   "cell_type": "markdown",
   "metadata": {},
   "source": [
    "## Data Set Intro"
   ]
  },
  {
   "cell_type": "markdown",
   "metadata": {},
   "source": [
    "* A Text Sample :\n",
    "* This example is a good representative of the data set with a lot of issues to be fixed. \n",
    "* For example : \n",
    "* smile 24/7 ,   24/7 is taken as a rating score \n",
    "* Another problem is that it is not the original tweet but a retweet from gofundme. The user post it to ask for help but not for rate the dog. "
   ]
  },
  {
   "cell_type": "markdown",
   "metadata": {},
   "source": [
    "## Data Wrangle :"
   ]
  },
  {
   "cell_type": "markdown",
   "metadata": {},
   "source": [
    "12 quality issues and 4 tidiness issues are fixed before proceeding to data visulization and analysis  "
   ]
  },
  {
   "cell_type": "markdown",
   "metadata": {},
   "source": [
    "## Data Visulization and Data Analysis:\n",
    "Q 1) What is the relationship between favorite_count and retweet_count ?\n",
    "\n",
    "Q 2) What are the most popular breeds?\n",
    "\n",
    "Q 3) What is the relationship between dog stages and retweet counts and favorite counts ?"
   ]
  },
  {
   "cell_type": "markdown",
   "metadata": {},
   "source": [
    "# Evaluation of Answer:"
   ]
  },
  {
   "cell_type": "markdown",
   "metadata": {},
   "source": [
    "Q 1) What is the relationship between favorite_count and retweet_count ?"
   ]
  },
  {
   "cell_type": "markdown",
   "metadata": {},
   "source": [
    "![title](output.png)"
   ]
  },
  {
   "cell_type": "markdown",
   "metadata": {},
   "source": [
    "Answer:"
   ]
  },
  {
   "cell_type": "markdown",
   "metadata": {},
   "source": [
    "\n",
    "\n",
    "According to the plot, we can see there are two activity peaks 0-3 and 16-17. Users like to post tweets either at the time before off work or late night(even 3 am belongs to early morning but It is more likely they stay late until 3 am rather than they get up at 3 am to post tweets).\n",
    "\n",
    "It is shown that tweets posted at evening time or late night gains more retweets and favorites. It is generally consistent with the two activity peaks. More users are active at the peorids, which generate more retweets and favorite counts.\n"
   ]
  },
  {
   "cell_type": "markdown",
   "metadata": {},
   "source": [
    "Q 2) What are the most popular breeds?"
   ]
  },
  {
   "cell_type": "markdown",
   "metadata": {},
   "source": [
    "![title](output2.png)"
   ]
  },
  {
   "cell_type": "markdown",
   "metadata": {},
   "source": [
    "Answer:"
   ]
  },
  {
   "cell_type": "markdown",
   "metadata": {},
   "source": [
    "***  P1 column ***\n",
    "\n",
    "The most popular breeds of dogs are Golden Retriever and Labrador retriever. In both 'retweet_count' and 'favorite_count' the most popular breeds are the same, only the order changes.\n",
    "\n",
    "The four most popular breeds are:\n",
    "\n",
    "Golden retriever\n",
    "\n",
    "Labrador retriever\n",
    "\n",
    "Chihuahua\n",
    "\n",
    "Pembroke\n",
    "\n",
    "An image depicting a Golden retriever on average gets 11,310.85 favorites and 3,874.47 retweets."
   ]
  },
  {
   "cell_type": "markdown",
   "metadata": {},
   "source": [
    "![title](output3.png)"
   ]
  },
  {
   "cell_type": "markdown",
   "metadata": {},
   "source": [
    "*** P2 column ***\n",
    "\n",
    "The most popular breeds of dogs are Labrador retriever and Golden Retriever. In both 'retweet_count' and 'favorite_count' the most popular breeds are the same, only the order changes.\n",
    "\n",
    "The four most popular breeds are:\n",
    "\n",
    "Labrador retriever\n",
    "\n",
    "Golden retriever\n",
    "\n",
    "pomeranian\n",
    "\n",
    "cardigan\n",
    "\n",
    "An image depicting a Labrador retriever on average gets 1400000 favorites and 450000 retweets."
   ]
  },
  {
   "cell_type": "markdown",
   "metadata": {},
   "source": [
    "![title](output4.png)"
   ]
  },
  {
   "cell_type": "markdown",
   "metadata": {},
   "source": [
    "*** P3 column ***"
   ]
  },
  {
   "cell_type": "markdown",
   "metadata": {},
   "source": [
    "\n",
    "\n",
    "The most popular breeds of dogs are Labrador retriever and chihuahua. In both 'retweet_count' and 'favorite_count' the most popular breeds are the same, only the order changes.\n",
    "\n",
    "The four most popular breeds are:\n",
    "\n",
    "Labrador retriever\n",
    "\n",
    "chihuahua\n",
    "\n",
    "kelpie\n",
    "\n",
    "golden retriever\n",
    "\n",
    "An image depicting a Labrador retriever on average gets 700000 favorites and 200000 retweets.\n"
   ]
  },
  {
   "cell_type": "markdown",
   "metadata": {},
   "source": [
    "Q 3) What is the relationship between dog stages and retweet counts and favorite counts"
   ]
  },
  {
   "cell_type": "markdown",
   "metadata": {},
   "source": [
    "![title](output6.png)"
   ]
  },
  {
   "cell_type": "markdown",
   "metadata": {},
   "source": [
    "Answer:"
   ]
  },
  {
   "cell_type": "markdown",
   "metadata": {},
   "source": [
    "\n",
    "\n",
    "We can observe that in our plot that most of the tweets have less than 40,000 favorites and less than 20,000 favorites. We also notice that from the equation for the line of best fit that there tends to be 3 times as many favorites as retweets. However we notice that as the values get larger, the ratio of retweets to favorites get larger (further above the line of best fit).\n",
    "\n",
    "When we highlight the dog stages (ignoring those that were not classified), we see the smaller values bunch below the original line of best fit.\n"
   ]
  }
 ],
 "metadata": {
  "kernelspec": {
   "display_name": "Python 3",
   "language": "python",
   "name": "python3"
  },
  "language_info": {
   "codemirror_mode": {
    "name": "ipython",
    "version": 3
   },
   "file_extension": ".py",
   "mimetype": "text/x-python",
   "name": "python",
   "nbconvert_exporter": "python",
   "pygments_lexer": "ipython3",
   "version": "3.6.3"
  }
 },
 "nbformat": 4,
 "nbformat_minor": 2
}
